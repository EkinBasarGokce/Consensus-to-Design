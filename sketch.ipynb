{
 "cells": [
  {
   "cell_type": "markdown",
   "metadata": {},
   "source": [
    "    This notebook will be used to save previous work and thoughts on the analysis pipeline"
   ]
  },
  {
   "cell_type": "markdown",
   "metadata": {},
   "source": [
    "# Previous Primer Algorithm (from Excel sheet)"
   ]
  },
  {
   "cell_type": "markdown",
   "metadata": {},
   "source": [
    "In this step we created three lists that store information about the N number. This allows us to examine the conservation status of sequences in our consensus sequence window by window. "
   ]
  },
  {
   "cell_type": "code",
   "execution_count": null,
   "metadata": {},
   "outputs": [],
   "source": [
    "\"\"\"zero_n_window_list = []\n",
    "\n",
    "zero_n_list = []\n",
    "\n",
    "increased_index_list = []\n",
    "\n",
    "\n",
    "for i in range(len(sequence)): \n",
    "    # here, I first used (len(sequence) - 18) to prevent any possible indexing problem \n",
    "    # but then checkedimport numpy as np\n",
    " with whole length, did not give rise to any problem, consider this later\n",
    "\n",
    "    window = sequence[i:i+18]\n",
    "    \n",
    "    n_count = window.count(\"N\")\n",
    "    \n",
    "    if n_count != 0:\n",
    "        \n",
    "        zero_n_window_list.append(0)\n",
    "        \n",
    "        zero_n_list.append(0)\n",
    "        \n",
    "        increased_index_list.append(0)\n",
    "        \n",
    "    else:\n",
    "        zero_n_window_list.append(window)\n",
    "        \n",
    "        zero_n_list.append(1)\n",
    "\n",
    "        if len(increased_index_list) != 0:\n",
    "\n",
    "            last_element = increased_index_list[-1]\n",
    "\n",
    "            if last_element == 0:\n",
    "                increased_index_list.append(1)\n",
    "            elif last_element != 0:\n",
    "                increased_index_list.append(last_element + 1)\n",
    "\n",
    "        else:\n",
    "            increased_index_list.append(1)\n",
    "        \n",
    "        \n",
    "print(zero_n_window_list[11])\n",
    "print(increased_index_list[11])\n",
    "print(zero_n_list[0:13])\n",
    "\"\"\""
   ]
  },
  {
   "cell_type": "markdown",
   "metadata": {},
   "source": [
    "regex did not worked well, check it later\n",
    "\n",
    "In the following cell, I used regex to extract strings without N but surrounded by N's. Thus, \"N\" character is added to the beginning of the sequence just to ensure any possible matching string at the start are also recovered. "
   ]
  },
  {
   "cell_type": "code",
   "execution_count": null,
   "metadata": {},
   "outputs": [],
   "source": [
    "# regex solution - might be less memory consuming and faster\n",
    "\n",
    "# string = str(\"N\" + sequence) # -> has problems, does not match all substrings \n",
    "\n",
    "# matches = re.findall(r'N((?:(?!N).)*?)N', string)\n",
    "# matches = re.findall(r'N(.*?)N', string)\n",
    "# print(len(matches),matches)"
   ]
  }
 ],
 "metadata": {
  "kernelspec": {
   "display_name": "Python 3",
   "language": "python",
   "name": "python3"
  },
  "language_info": {
   "codemirror_mode": {
    "name": "ipython",
    "version": 3
   },
   "file_extension": ".py",
   "mimetype": "text/x-python",
   "name": "python",
   "nbconvert_exporter": "python",
   "pygments_lexer": "ipython3",
   "version": "3.8.3"
  }
 },
 "nbformat": 4,
 "nbformat_minor": 4
}
